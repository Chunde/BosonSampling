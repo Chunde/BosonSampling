{
 "cells": [
  {
   "cell_type": "code",
   "execution_count": 12,
   "metadata": {},
   "outputs": [],
   "source": [
    "import numpy as np\n",
    "import os\n",
    "import matplotlib.pyplot as plt"
   ]
  },
  {
   "cell_type": "code",
   "execution_count": 21,
   "metadata": {},
   "outputs": [
    {
     "name": "stdout",
     "output_type": "stream",
     "text": [
      "32 files for m = 1\n",
      "32 files for m = 2\n",
      "32 files for m = 3\n",
      "32 files for m = 4\n",
      "31 files for m = 5\n",
      "32 files for m = 6\n",
      "32 files for m = 7\n",
      "32 files for m = 8\n"
     ]
    },
    {
     "data": {
      "text/plain": [
       "Text(0, 0.5, 'EE')"
      ]
     },
     "execution_count": 21,
     "metadata": {},
     "output_type": "execute_result"
    },
    {
     "data": {
      "image/png": "[encoded data removed]",
      "text/plain": [
       "<Figure size 432x288 with 1 Axes>"
      ]
     },
     "metadata": {
      "needs_background": "light"
     },
     "output_type": "display_data"
    }
   ],
   "source": [
    "EEs = []\n",
    "for m in range(1, 9):\n",
    "    dir = './results/n_20_m_{}_loss_0.5_chi_{}_r_1.45_PS_{}/'.format(m, 8*2**m, m)\n",
    "    files = os.listdir(dir)\n",
    "    files = [file for file in files if file[:2] == 'EE']\n",
    "    print('{} files for m = {}'.format(len(files), m))\n",
    "    tot_ee = 0\n",
    "    for file in files:\n",
    "        ee = np.load(dir + file)\n",
    "        # print('ee:', ee)\n",
    "        ee = np.max(ee)\n",
    "        # print('ee:', ee)\n",
    "        tot_ee += ee\n",
    "    ave_ee = tot_ee/len(files)\n",
    "    EEs.append(ave_ee)\n",
    "\n",
    "plt.plot(range(1, 9), EEs, 'o')\n",
    "plt.xlabel('m')\n",
    "plt.ylabel('EE')"
   ]
  },
  {
   "cell_type": "code",
   "execution_count": 36,
   "metadata": {},
   "outputs": [
    {
     "data": {
      "text/plain": [
       "[<matplotlib.lines.Line2D at 0x1520d31cfa30>]"
      ]
     },
     "execution_count": 36,
     "metadata": {},
     "output_type": "execute_result"
    },
    {
     "data": {
      "image/png": "[encoded data removed]",
      "text/plain": [
       "<Figure size 432x288 with 1 Axes>"
      ]
     },
     "metadata": {
      "needs_background": "light"
     },
     "output_type": "display_data"
    }
   ],
   "source": [
    "ee = np.load(dir + file)\n",
    "plt.plot(np.max(ee, axis=0))"
   ]
  },
  {
   "cell_type": "code",
   "execution_count": 37,
   "metadata": {},
   "outputs": [
    {
     "data": {
      "text/plain": [
       "array([[ 2.612,  3.765,  4.414,  4.795,  5.019,  5.144,  2.953,  0.   ,\n",
       "         0.   ,  0.   ,  0.   ,  0.   ,  0.   ,  0.   ,  0.   ,  0.   ,\n",
       "         0.   ,  0.   ,  0.   ],\n",
       "       [ 2.787,  3.765,  4.414,  4.795,  5.019,  5.144,  2.953,  0.   ,\n",
       "         0.   ,  0.   ,  0.   ,  0.   ,  0.   ,  0.   ,  0.   ,  0.   ,\n",
       "         0.   ,  0.   ,  0.   ],\n",
       "       [ 3.05 ,  5.007,  5.589,  4.795,  5.019,  5.144,  2.953,  0.   ,\n",
       "         0.   ,  0.   ,  0.   ,  0.   ,  0.   ,  0.   ,  0.   ,  0.   ,\n",
       "         0.   ,  0.   ,  0.   ],\n",
       "       [ 2.843,  5.386,  6.585,  7.01 ,  6.206,  5.144,  2.953,  0.   ,\n",
       "         0.   ,  0.   ,  0.   ,  0.   ,  0.   ,  0.   ,  0.   ,  0.   ,\n",
       "         0.   ,  0.   ,  0.   ],\n",
       "       [ 3.765,  7.037,  9.307,  9.666,  8.715,  6.796,  3.8  ,  0.   ,\n",
       "         0.   ,  0.   ,  0.   ,  0.   ,  0.   ,  0.   ,  0.   ,  0.   ,\n",
       "         0.   ,  0.   ,  0.   ],\n",
       "       [ 3.467,  6.589,  8.928,  9.94 ,  9.802,  8.425,  6.333,  3.11 ,\n",
       "         0.   ,  0.   ,  0.   ,  0.   ,  0.   ,  0.   ,  0.   ,  0.   ,\n",
       "         0.   ,  0.   ,  0.   ],\n",
       "       [ 3.515,  6.022,  8.33 ,  9.757, 10.161,  9.678,  8.124,  5.897,\n",
       "         2.971,  0.   ,  0.   ,  0.   ,  0.   ,  0.   ,  0.   ,  0.   ,\n",
       "         0.   ,  0.   ,  0.   ],\n",
       "       [ 2.782,  5.853,  7.915,  9.25 ,  9.954, 10.134,  9.484,  7.831,\n",
       "         5.646,  2.716,  0.   ,  0.   ,  0.   ,  0.   ,  0.   ,  0.   ,\n",
       "         0.   ,  0.   ,  0.   ],\n",
       "       [ 2.352,  4.752,  7.414,  8.885,  9.848, 10.142, 10.067,  9.196,\n",
       "         7.323,  5.12 ,  2.421,  0.   ,  0.   ,  0.   ,  0.   ,  0.   ,\n",
       "         0.   ,  0.   ,  0.   ],\n",
       "       [ 2.569,  4.456,  6.525,  8.288,  9.259,  9.997, 10.123,  9.929,\n",
       "         9.052,  7.214,  5.01 ,  2.323,  0.   ,  0.   ,  0.   ,  0.   ,\n",
       "         0.   ,  0.   ,  0.   ],\n",
       "       [ 1.967,  4.054,  5.77 ,  7.237,  8.68 ,  9.414, 10.055, 10.096,\n",
       "         9.875,  8.96 ,  7.111,  4.942,  2.278,  0.   ,  0.   ,  0.   ,\n",
       "         0.   ,  0.   ,  0.   ],\n",
       "       [ 1.967,  4.243,  5.944,  7.446,  8.561,  9.438,  9.936, 10.187,\n",
       "        10.021,  9.608,  8.593,  6.855,  4.62 ,  2.23 ,  0.   ,  0.   ,\n",
       "         0.   ,  0.   ,  0.   ],\n",
       "       [ 1.967,  4.243,  5.944,  7.372,  8.308,  8.985,  9.657, 10.036,\n",
       "        10.16 ,  9.901,  9.419,  8.36 ,  6.568,  4.445,  2.213,  0.   ,\n",
       "         0.   ,  0.   ,  0.   ],\n",
       "       [ 1.967,  4.243,  5.944,  7.372,  8.308,  8.755,  9.367,  9.828,\n",
       "        10.076, 10.119,  9.74 ,  9.11 ,  7.926,  5.993,  4.183,  2.054,\n",
       "         0.   ,  0.   ,  0.   ],\n",
       "       [ 1.967,  4.243,  5.944,  7.372,  8.308,  8.755,  9.367,  9.822,\n",
       "         9.999,  9.936,  9.989,  9.476,  8.816,  7.546,  5.861,  4.051,\n",
       "         2.011,  0.   ,  0.   ],\n",
       "       [ 1.967,  4.243,  5.944,  7.372,  8.308,  8.755,  9.367,  9.822,\n",
       "         9.999,  9.685,  9.799,  9.735,  9.034,  8.207,  6.794,  5.002,\n",
       "         3.393,  1.639,  0.   ],\n",
       "       [ 1.967,  4.243,  5.944,  7.372,  8.308,  8.755,  9.367,  9.822,\n",
       "         9.999,  9.685,  9.799,  9.647,  9.364,  8.426,  7.701,  6.318,\n",
       "         4.578,  3.091,  1.441],\n",
       "       [ 1.967,  4.243,  5.944,  7.372,  8.308,  8.755,  9.367,  9.822,\n",
       "         9.999,  9.685,  9.799,  9.647,  9.364,  8.617,  7.595,  6.756,\n",
       "         5.364,  3.513,  1.898],\n",
       "       [ 1.967,  4.243,  5.944,  7.372,  8.308,  8.755,  9.367,  9.822,\n",
       "         9.999,  9.685,  9.799,  9.647,  9.364,  8.617,  7.595,  6.545,\n",
       "         5.514,  4.12 ,  1.813],\n",
       "       [ 1.967,  4.243,  5.944,  7.372,  8.308,  8.755,  9.367,  9.822,\n",
       "         9.999,  9.685,  9.799,  9.647,  9.364,  8.617,  7.595,  6.545,\n",
       "         5.514,  3.929,  1.975]])"
      ]
     },
     "execution_count": 37,
     "metadata": {},
     "output_type": "execute_result"
    }
   ],
   "source": [
    "np.set_printoptions(3)\n",
    "ee.T"
   ]
  },
  {
   "cell_type": "code",
   "execution_count": 44,
   "metadata": {},
   "outputs": [
    {
     "name": "stdout",
     "output_type": "stream",
     "text": [
      "32 files for m = 1\n",
      "32 files for m = 2\n",
      "32 files for m = 3\n",
      "32 files for m = 4\n",
      "31 files for m = 5\n",
      "32 files for m = 6\n",
      "32 files for m = 7\n",
      "32 files for m = 8\n"
     ]
    },
    {
     "data": {
      "text/plain": [
       "Text(0, 0.5, 'Layer')"
      ]
     },
     "execution_count": 44,
     "metadata": {},
     "output_type": "execute_result"
    },
    {
     "data": {
      "image/png": "[encoded data removed]",
      "text/plain": [
       "<Figure size 432x288 with 1 Axes>"
      ]
     },
     "metadata": {
      "needs_background": "light"
     },
     "output_type": "display_data"
    }
   ],
   "source": [
    "EEs = np.zeros([19, 20])\n",
    "for m in range(1, 9):\n",
    "    dir = './results/n_20_m_{}_loss_0.5_chi_{}_r_1.45_PS_{}/'.format(m, 8*2**m, m)\n",
    "    files = os.listdir(dir)\n",
    "    files = [file for file in files if file[:2] == 'EE']\n",
    "    print('{} files for m = {}'.format(len(files), m))\n",
    "    tot_ee = 0\n",
    "    for file in files:\n",
    "        ee = np.load(dir + file)\n",
    "        EEs += ee\n",
    "\n",
    "plt.imshow(np.flip(EEs, axis=0))\n",
    "plt.xlabel('m')\n",
    "plt.ylabel('Layer')"
   ]
  },
  {
   "cell_type": "code",
   "execution_count": null,
   "metadata": {},
   "outputs": [],
   "source": []
  }
 ],
 "metadata": {
  "kernelspec": {
   "display_name": "Python 3.9.12 ('analysis': conda)",
   "language": "python",
   "name": "python3"
  },
  "language_info": {
   "codemirror_mode": {
    "name": "ipython",
    "version": 3
   },
   "file_extension": ".py",
   "mimetype": "text/x-python",
   "name": "python",
   "nbconvert_exporter": "python",
   "pygments_lexer": "ipython3",
   "version": "3.9.12"
  },
  "orig_nbformat": 4,
  "vscode": {
   "interpreter": {
    "hash": "482fab89e840f6bfae483d00998162925672c30675b9d9f6eae30ceb3fe41f40"
   }
  }
 },
 "nbformat": 4,
 "nbformat_minor": 2
}
